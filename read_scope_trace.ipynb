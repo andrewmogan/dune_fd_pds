{
 "cells": [
  {
   "cell_type": "code",
   "execution_count": 1,
   "id": "5f06f520-4b30-458a-ba1c-ea6e570f5ec1",
   "metadata": {},
   "outputs": [],
   "source": [
    "import h5py\n",
    "import pandas as pd\n",
    "import numpy as np\n",
    "\n",
    "import matplotlib.pyplot as plt"
   ]
  },
  {
   "cell_type": "code",
   "execution_count": 2,
   "id": "8b4b2090-0d46-46fd-bb23-3beb61dd8dbe",
   "metadata": {},
   "outputs": [
    {
     "name": "stdout",
     "output_type": "stream",
     "text": [
      "Num traces in this file: 10\n"
     ]
    }
   ],
   "source": [
    "filepath = 'csv/'\n",
    "filename = 'scopetest_CH2.csv'\n",
    "\n",
    "traces = np.loadtxt(filepath+filename,delimiter=',')\n",
    "num_traces = traces.shape[1] - 1 # Subtract the first (time) column\n",
    "print('Num traces in this file:', num_traces)"
   ]
  },
  {
   "cell_type": "code",
   "execution_count": 3,
   "id": "eb4ee751-502a-456c-85cc-b71b07608a03",
   "metadata": {},
   "outputs": [],
   "source": [
    "# Start at peak voltage and find \"crossing points\" below the baseline+rms\n",
    "# To account for statistical fluctuations from noise, declare a bound\n",
    "# only when the voltage falls below the baseline+rms value some number\n",
    "# of times (the threshold)\n",
    "def find_integration_bounds(voltage, baseline, baseline_rms, verbose=False):\n",
    "    lbound = 0\n",
    "    rbound = len(voltage)\n",
    "    voltage_peak = np.amax(voltage)\n",
    "    peak_index = np.argmax(voltage)\n",
    "    \n",
    "    num_crosses = 0\n",
    "    # TODO: Is 10 good enough? Too many?\n",
    "    cross_threshold = 10\n",
    "    for index in range(peak_index, len(voltage)):\n",
    "        if voltage[index] < (baseline + baseline_rms):\n",
    "            if verbose:\n",
    "                print('Found voltage cross point at index', index, 'with value', voltage[index])\n",
    "            num_crosses += 1\n",
    "            if num_crosses == cross_threshold:\n",
    "                if verbose:\n",
    "                    print('Setting rbound', index)\n",
    "                rbound = index\n",
    "                break\n",
    "            \n",
    "    num_crosses = 0\n",
    "    # Now the same thing but for left bound\n",
    "    for index in range(peak_index, 0, -1):\n",
    "        if voltage[index] < (baseline + baseline_rms):\n",
    "            if verbose:\n",
    "                print('Found voltage cross point at index', index, 'with value', voltage[index])\n",
    "            num_crosses += 1\n",
    "            if num_crosses == cross_threshold:\n",
    "                if verbose:\n",
    "                    print('Setting lbound', index)\n",
    "                lbound = index\n",
    "                break\n",
    "    \n",
    "    return lbound, rbound"
   ]
  },
  {
   "cell_type": "code",
   "execution_count": 6,
   "id": "3d6d2ff8-906b-4621-ab36-932cbee3c56f",
   "metadata": {},
   "outputs": [
    {
     "name": "stdout",
     "output_type": "stream",
     "text": [
      "Voltages shape: (9952, 10)\n",
      "Num traces: 10\n"
     ]
    }
   ],
   "source": [
    "# The first column of traces will contain time values. All other columns contain voltages\n",
    "trace_time = traces[:, 0]\n",
    "voltages   = traces[:, 1:]\n",
    "print('Voltages shape:', voltages.shape)\n",
    "num_traces = voltages.shape[1] \n",
    "print('Num traces:', num_traces)\n",
    "integrals = []\n",
    "alt_integrals = []\n",
    "verbose = False\n",
    "save_plots = True\n",
    "for i in range(num_traces):\n",
    "    if verbose: print('-------START LOOP ', i, '----------')\n",
    "    voltage = voltages[:,i]\n",
    "    \n",
    "    # TODO: Hard-coding alert! 4900 comes from looking at lbounds output by find_integration_bounds()\n",
    "    voltage_baseline = np.array(voltage[:4900])\n",
    "    baseline = np.mean(voltage_baseline)\n",
    "    baseline_rms = np.std(voltage_baseline)\n",
    "    \n",
    "    lbound, rbound = find_integration_bounds(voltage, baseline, baseline_rms, verbose)\n",
    "    voltage_baseline_subtracted = voltage - baseline\n",
    "    integrals.append(np.sum(voltage_baseline_subtracted[lbound:rbound+1]))\n",
    "    alt_integrals.append(np.trapz(voltage_baseline_subtracted[lbound:rbound+1], x=trace_time[lbound:rbound+1]))\n",
    "    \n",
    "    if verbose:\n",
    "        print('Baseline value:', baseline)\n",
    "        print('Baseline RMS:', baseline_rms)\n",
    "        print('Integral', i, 'from sum:', integrals[i])\n",
    "        print('Integral from trap rule:', alt_integral)\n",
    "    \n",
    "    ### Plot for validating/debugging ###\n",
    "    if save_plots:\n",
    "        plt.figure(figsize=(10, 8))\n",
    "        plt.plot(trace_time, voltage_baseline_subtracted, color='black')\n",
    "        # Vertical lines at integration bounds\n",
    "        plt.axvline(x=trace_time[lbound], color='cyan')\n",
    "        plt.axvline(x=trace_time[rbound], color='cyan')\n",
    "        # Horizontal lines at baseline and baseline +/- rms\n",
    "        baseline = 0 # Since we're plotting baseline-corrected voltage\n",
    "        plt.axhline(y=baseline, color='r')\n",
    "        plt.axhline(y=baseline+baseline_rms, color='r', linestyle='--')\n",
    "        plt.axhline(y=baseline-baseline_rms, color='r', linestyle='--')\n",
    "        plt.xlabel(r'Time [$\\mu$s]')\n",
    "        plt.ylabel('Voltage [V]')\n",
    "        plt.savefig(f\"waveform_{i:03}_{filename.removesuffix('.csv')}.png\")\n",
    "        plt.close()\n",
    "        #plt.show()\n",
    "    if verbose: print('-------END LOOP ', i, '----------')"
   ]
  },
  {
   "cell_type": "code",
   "execution_count": 100,
   "id": "13c4421e-7c30-49db-94e9-0b94952e34df",
   "metadata": {},
   "outputs": [
    {
     "data": {
      "text/plain": [
       "(array([0., 0., 0., 0., 0., 0., 0., 0., 1., 9.]),\n",
       " array([ 0.        ,  2.9261031 ,  5.8522062 ,  8.77830931, 11.70441241,\n",
       "        14.63051551, 17.55661861, 20.48272171, 23.40882482, 26.33492792,\n",
       "        29.26103102]),\n",
       " <BarContainer object of 10 artists>)"
      ]
     },
     "execution_count": 100,
     "metadata": {},
     "output_type": "execute_result"
    },
    {
     "data": {
      "image/png": "[encoded data removed]",
      "text/plain": [
       "<Figure size 576x432 with 1 Axes>"
      ]
     },
     "metadata": {
      "needs_background": "light"
     },
     "output_type": "display_data"
    }
   ],
   "source": [
    "plt.figure(figsize=(8,6))\n",
    "plt.hist(integrals, range=(0, np.max(integrals)))"
   ]
  },
  {
   "cell_type": "code",
   "execution_count": 85,
   "id": "ccab379d-18fe-46ac-abf9-0050def4e13f",
   "metadata": {},
   "outputs": [
    {
     "data": {
      "text/plain": [
       "(array([0., 0., 0., 0., 0., 0., 0., 0., 1., 9.]),\n",
       " array([0.00000000e+00, 2.92609478e-09, 5.85218955e-09, 8.77828433e-09,\n",
       "        1.17043791e-08, 1.46304739e-08, 1.75565687e-08, 2.04826634e-08,\n",
       "        2.34087582e-08, 2.63348530e-08, 2.92609478e-08]),\n",
       " <BarContainer object of 10 artists>)"
      ]
     },
     "execution_count": 85,
     "metadata": {},
     "output_type": "execute_result"
    },
    {
     "data": {
      "image/png": "[encoded data removed]",
      "text/plain": [
       "<Figure size 432x288 with 1 Axes>"
      ]
     },
     "metadata": {
      "needs_background": "light"
     },
     "output_type": "display_data"
    }
   ],
   "source": [
    "plt.hist(alt_integrals, range=(0, np.max(alt_integrals)))"
   ]
  },
  {
   "cell_type": "code",
   "execution_count": null,
   "id": "8245e2d4-90e9-47df-9ca5-8795f5f633ca",
   "metadata": {},
   "outputs": [],
   "source": []
  }
 ],
 "metadata": {
  "kernelspec": {
   "display_name": "Python 3 (ipykernel)",
   "language": "python",
   "name": "python3"
  },
  "language_info": {
   "codemirror_mode": {
    "name": "ipython",
    "version": 3
   },
   "file_extension": ".py",
   "mimetype": "text/x-python",
   "name": "python",
   "nbconvert_exporter": "python",
   "pygments_lexer": "ipython3",
   "version": "3.9.7"
  }
 },
 "nbformat": 4,
 "nbformat_minor": 5
}
