{
 "cells": [
  {
   "cell_type": "code",
   "execution_count": 1,
   "metadata": {},
   "outputs": [],
   "source": [
    "# using python 3.9.7\n",
    "# analysis script for looking for single or multi photon events in the photon detectors."
   ]
  },
  {
   "cell_type": "code",
   "execution_count": 1,
   "metadata": {},
   "outputs": [],
   "source": [
    "from os import listdir\n",
    "import numpy as np\n",
    "import matplotlib.pyplot as plt\n",
    "from darkrate_fxns_sam import *"
   ]
  },
  {
   "cell_type": "code",
   "execution_count": 2,
   "metadata": {},
   "outputs": [],
   "source": [
    "# acquire all file names in directory\n",
    "filespath = '/Users/samuelfogarty/OneDrive/Desktop/OneDrive/photondetectortests/dune_fd_pds_data/singlephotonsearch/'\n",
    "#abovebreakdown = '12usecwindow__25MHzSR_1kpts_10mVperdiv_ch4_44.135Bias'\n",
    "#belowbreakdown = '12usecwindow_25MHzSR_1kpts_10mVperdiv_ch4_10.932VBias'\n",
    "abovebreakdown = '10mswindow_25MHzSR_1kpts_10mVperdiv_ch4_44.135VBias'\n",
    "belowbreakdown = '10mswindow_25MHzSR_1kpts_10mVperdiv_ch4_10.935VBias'\n",
    "\n",
    "# file path of each directory\n",
    "filespath_bbd = filespath + belowbreakdown\n",
    "filespath_abd = filespath + abovebreakdown\n",
    "# list of file names in each directory\n",
    "filenames_bbd = os.listdir(filespath_bbd)\n",
    "filenames_abd = os.listdir(filespath_abd)"
   ]
  },
  {
   "cell_type": "code",
   "execution_count": 3,
   "metadata": {},
   "outputs": [
    {
     "name": "stderr",
     "output_type": "stream",
     "text": [
      "/Users/samuelfogarty/opt/anaconda3/lib/python3.9/site-packages/numpy/core/_methods.py:47: RuntimeWarning: invalid value encountered in reduce\n",
      "  return umr_sum(a, axis, dtype, out, keepdims, initial, where)\n"
     ]
    },
    {
     "ename": "KeyboardInterrupt",
     "evalue": "",
     "output_type": "error",
     "traceback": [
      "\u001b[0;31m---------------------------------------------------------------------------\u001b[0m",
      "\u001b[0;31mKeyboardInterrupt\u001b[0m                         Traceback (most recent call last)",
      "\u001b[0;32m/var/folders/dc/52hbwd7j7hz065sqpvxpqy280000gn/T/ipykernel_42664/3584119645.py\u001b[0m in \u001b[0;36m<module>\u001b[0;34m\u001b[0m\n\u001b[1;32m      7\u001b[0m     \u001b[0mfilepath_abd\u001b[0m \u001b[0;34m=\u001b[0m \u001b[0mfilespath_abd\u001b[0m \u001b[0;34m+\u001b[0m \u001b[0;34m'/'\u001b[0m \u001b[0;34m+\u001b[0m \u001b[0mfilename_abd\u001b[0m\u001b[0;34m\u001b[0m\u001b[0;34m\u001b[0m\u001b[0m\n\u001b[1;32m      8\u001b[0m     \u001b[0mt\u001b[0m\u001b[0;34m,\u001b[0m \u001b[0mV\u001b[0m \u001b[0;34m=\u001b[0m \u001b[0mgetData\u001b[0m\u001b[0;34m(\u001b[0m\u001b[0mfilepath_abd\u001b[0m\u001b[0;34m)\u001b[0m\u001b[0;34m\u001b[0m\u001b[0;34m\u001b[0m\u001b[0m\n\u001b[0;32m----> 9\u001b[0;31m     \u001b[0mphoton_candidates\u001b[0m\u001b[0;34m,\u001b[0m \u001b[0mwindows_indices_abd\u001b[0m \u001b[0;34m=\u001b[0m \u001b[0mfindcandidates\u001b[0m\u001b[0;34m(\u001b[0m\u001b[0mt\u001b[0m\u001b[0;34m,\u001b[0m\u001b[0mV\u001b[0m\u001b[0;34m)\u001b[0m\u001b[0;34m\u001b[0m\u001b[0;34m\u001b[0m\u001b[0m\n\u001b[0m\u001b[1;32m     10\u001b[0m     \u001b[0mncandidates_abd\u001b[0m \u001b[0;34m+=\u001b[0m \u001b[0mlen\u001b[0m\u001b[0;34m(\u001b[0m\u001b[0mfindcandidates\u001b[0m\u001b[0;34m(\u001b[0m\u001b[0mt\u001b[0m\u001b[0;34m,\u001b[0m\u001b[0mV\u001b[0m\u001b[0;34m)\u001b[0m\u001b[0;34m)\u001b[0m\u001b[0;34m\u001b[0m\u001b[0;34m\u001b[0m\u001b[0m\n\u001b[1;32m     11\u001b[0m \u001b[0;32mfor\u001b[0m \u001b[0mfilename_bbd\u001b[0m \u001b[0;32min\u001b[0m \u001b[0mfilenames_bbd\u001b[0m\u001b[0;34m:\u001b[0m\u001b[0;34m\u001b[0m\u001b[0;34m\u001b[0m\u001b[0m\n",
      "\u001b[0;32m~/OneDrive/Desktop/OneDrive/photondetectortests/dune_fd_pds/darkrate_fxns_sam.py\u001b[0m in \u001b[0;36mfindcandidates\u001b[0;34m(ts, Vs1)\u001b[0m\n\u001b[1;32m     37\u001b[0m         \u001b[0mts_sel\u001b[0m \u001b[0;34m=\u001b[0m \u001b[0mts\u001b[0m\u001b[0;34m[\u001b[0m\u001b[0mindex_start\u001b[0m\u001b[0;34m:\u001b[0m\u001b[0;34m(\u001b[0m\u001b[0mindex_start\u001b[0m \u001b[0;34m+\u001b[0m \u001b[0mnpoints_window\u001b[0m\u001b[0;34m)\u001b[0m\u001b[0;34m]\u001b[0m\u001b[0;34m\u001b[0m\u001b[0;34m\u001b[0m\u001b[0m\n\u001b[1;32m     38\u001b[0m         \u001b[0mVs1_sel\u001b[0m \u001b[0;34m=\u001b[0m \u001b[0mVs1\u001b[0m\u001b[0;34m[\u001b[0m\u001b[0mindex_start\u001b[0m\u001b[0;34m:\u001b[0m\u001b[0;34m(\u001b[0m\u001b[0mindex_start\u001b[0m \u001b[0;34m+\u001b[0m \u001b[0mnpoints_window\u001b[0m\u001b[0;34m)\u001b[0m\u001b[0;34m]\u001b[0m\u001b[0;34m\u001b[0m\u001b[0;34m\u001b[0m\u001b[0m\n\u001b[0;32m---> 39\u001b[0;31m         \u001b[0mtrace_integral\u001b[0m \u001b[0;34m=\u001b[0m \u001b[0mnp\u001b[0m\u001b[0;34m.\u001b[0m\u001b[0mtrapz\u001b[0m\u001b[0;34m(\u001b[0m\u001b[0mVs1_sel\u001b[0m\u001b[0;34m,\u001b[0m \u001b[0mx\u001b[0m\u001b[0;34m=\u001b[0m\u001b[0mts_sel\u001b[0m\u001b[0;34m)\u001b[0m\u001b[0;34m\u001b[0m\u001b[0;34m\u001b[0m\u001b[0m\n\u001b[0m\u001b[1;32m     40\u001b[0m         \u001b[0;31m# only if integral is above the threshold and candidates are set to be accepted\u001b[0m\u001b[0;34m\u001b[0m\u001b[0;34m\u001b[0m\u001b[0m\n\u001b[1;32m     41\u001b[0m         \u001b[0;32mif\u001b[0m \u001b[0mtrace_integral\u001b[0m \u001b[0;34m>\u001b[0m \u001b[0mV_threshold\u001b[0m\u001b[0;34m*\u001b[0m\u001b[0;36m1e-9\u001b[0m \u001b[0;32mand\u001b[0m \u001b[0mkeepCandidate\u001b[0m \u001b[0;34m==\u001b[0m \u001b[0;32mTrue\u001b[0m\u001b[0;34m:\u001b[0m\u001b[0;34m\u001b[0m\u001b[0;34m\u001b[0m\u001b[0m\n",
      "\u001b[0;32m<__array_function__ internals>\u001b[0m in \u001b[0;36mtrapz\u001b[0;34m(*args, **kwargs)\u001b[0m\n",
      "\u001b[0;31mKeyboardInterrupt\u001b[0m: "
     ]
    }
   ],
   "source": [
    "# loop through each file, above and below breakdown\n",
    "ncandidates_abd = 0\n",
    "ncandidates_bbd = 0\n",
    "windows_indices_abd = []\n",
    "windows_indices_bbd = []\n",
    "for filename_abd in filenames_abd:\n",
    "    filepath_abd = filespath_abd + '/' + filename_abd\n",
    "    t, V = getData(filepath_abd)\n",
    "    photon_candidates, windows_indices_abd = findcandidates(t,V)\n",
    "    ncandidates_abd += len(findcandidates(t,V))\n",
    "for filename_bbd in filenames_bbd:\n",
    "    filepath_bbd = filespath_bbd + '/' + filename_bbd\n",
    "    t, V = getData(filepath_bbd)\n",
    "    photon_candidates, windows_indices_bbd = findcandidates(t,V)\n",
    "    ncandidates_bbd += len(findcandidates(t,V))"
   ]
  },
  {
   "cell_type": "code",
   "execution_count": 16,
   "metadata": {},
   "outputs": [
    {
     "name": "stdout",
     "output_type": "stream",
     "text": [
      "number of photon candidates below breakdown =  69187\n",
      "number of photon candidates above breakdown =  135712\n"
     ]
    }
   ],
   "source": [
    "print(\"number of photon candidates below breakdown = \",ncandidates_bbd)\n",
    "print(\"number of photon candidates above breakdown = \",ncandidates_abd)"
   ]
  },
  {
   "cell_type": "code",
   "execution_count": null,
   "metadata": {},
   "outputs": [],
   "source": [
    "ncandidates"
   ]
  },
  {
   "cell_type": "markdown",
   "metadata": {},
   "source": []
  }
 ],
 "metadata": {
  "interpreter": {
   "hash": "29a586c7257b42ac049708e85f079f5891c9ec57995ce95f1b5b636d2f26283b"
  },
  "kernelspec": {
   "display_name": "Python 3.9.7 ('base')",
   "language": "python",
   "name": "python3"
  },
  "language_info": {
   "codemirror_mode": {
    "name": "ipython",
    "version": 3
   },
   "file_extension": ".py",
   "mimetype": "text/x-python",
   "name": "python",
   "nbconvert_exporter": "python",
   "pygments_lexer": "ipython3",
   "version": "3.9.7"
  },
  "orig_nbformat": 4
 },
 "nbformat": 4,
 "nbformat_minor": 2
}
