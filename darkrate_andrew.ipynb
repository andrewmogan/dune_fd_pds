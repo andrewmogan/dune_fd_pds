{
 "cells": [
  {
   "cell_type": "code",
   "execution_count": 5,
   "id": "e6786a4d-df1d-4537-8e0e-61b5f4e30b67",
   "metadata": {},
   "outputs": [],
   "source": [
    "import glob\n",
    "import numpy as np\n",
    "import pandas as pd\n",
    "import math\n",
    "import matplotlib.pyplot as plt\n",
    "from matplotlib.ticker import StrMethodFormatter\n",
    "import matplotlib.ticker as mtick\n",
    "\n",
    "from os import listdir"
   ]
  },
  {
   "cell_type": "markdown",
   "id": "92caa4c4-264e-4f34-9ff9-d0e35cc529c4",
   "metadata": {},
   "source": [
    "Model\tMSO44\n",
    "\n",
    "Waveform Type\tANALOG\n",
    "\n",
    "Horizontal Units\ts\n",
    "\n",
    "Sample Interval\t4.00E-08\n",
    "\n",
    "Record Length 1,000,000 pts\n",
    "\n",
    "Zero Index 142999.57612500\n",
    "\n",
    "Vertical Units\tV\n",
    "\n",
    "ANALOG_Thumbnail\t\n",
    "\t"
   ]
  },
  {
   "cell_type": "code",
   "execution_count": null,
   "id": "8fc3ef0b-c003-4065-92bf-635782db4092",
   "metadata": {},
   "outputs": [
    {
     "name": "stdout",
     "output_type": "stream",
     "text": [
      "Looping file ../csv/long_traces/10mswindow_25MHzSR_1kpts_10mVperdiv_ch4_44.135VBias/trace_ch4_20220607144435713.csv\n",
      "Inf found in range 80583 to 80608\n",
      "Inf found in range 80596 to 80621\n",
      "Inf found in range 115592 to 115617\n",
      "Inf found in range 115605 to 115630\n",
      "Inf found in range 335470 to 335495\n",
      "Inf found in range 335483 to 335508\n",
      "Inf found in range 335496 to 335521\n",
      "Inf found in range 646477 to 646502\n",
      "Inf found in range 646490 to 646515\n",
      "Inf found in range 794536 to 794561\n",
      "Inf found in range 794549 to 794574\n",
      "Inf found in range 794562 to 794587\n",
      "Inf found in range 794580 to 794605\n",
      "Inf found in range 794581 to 794606\n",
      "Inf found in range 794582 to 794607\n",
      "Inf found in range 794583 to 794608\n",
      "Inf found in range 794584 to 794609\n",
      "Inf found in range 794585 to 794610\n",
      "Inf found in range 794586 to 794611\n",
      "Inf found in range 794587 to 794612\n",
      "Inf found in range 794588 to 794613\n",
      "Inf found in range 794589 to 794614\n",
      "Inf found in range 794590 to 794615\n",
      "Inf found in range 794591 to 794616\n",
      "Inf found in range 794592 to 794617\n",
      "Inf found in range 794593 to 794618\n",
      "Inf found in range 794594 to 794619\n",
      "Inf found in range 794595 to 794620\n",
      "Inf found in range 794596 to 794621\n",
      "Inf found in range 794597 to 794622\n",
      "Inf found in range 794598 to 794623\n",
      "Inf found in range 794599 to 794624\n",
      "Inf found in range 794600 to 794625\n",
      "Inf found in range 794601 to 794626\n",
      "Inf found in range 794602 to 794627\n",
      "Inf found in range 794603 to 794628\n",
      "Inf found in range 794604 to 794629\n",
      "Inf found in range 794605 to 794630\n",
      "Inf found in range 794606 to 794631\n",
      "Inf found in range 794607 to 794632\n",
      "Inf found in range 794608 to 794633\n",
      "Inf found in range 794609 to 794634\n",
      "Inf found in range 794610 to 794635\n",
      "Inf found in range 794611 to 794636\n",
      "Inf found in range 794612 to 794637\n",
      "Inf found in range 794613 to 794638\n",
      "Inf found in range 794614 to 794639\n",
      "Inf found in range 794615 to 794640\n",
      "Inf found in range 794616 to 794641\n",
      "Inf found in range 794617 to 794642\n",
      "Inf found in range 794618 to 794643\n",
      "Inf found in range 794619 to 794644\n",
      "Inf found in range 794620 to 794645\n",
      "Inf found in range 794621 to 794646\n",
      "Inf found in range 794622 to 794647\n",
      "Inf found in range 794623 to 794648\n",
      "Inf found in range 794624 to 794649\n",
      "Inf found in range 794625 to 794650\n",
      "Inf found in range 794626 to 794651\n",
      "Inf found in range 794627 to 794652\n",
      "Inf found in range 794628 to 794653\n",
      "Inf found in range 794629 to 794654\n",
      "Inf found in range 794630 to 794655\n",
      "Inf found in range 794631 to 794656\n",
      "Inf found in range 794632 to 794657\n",
      "Inf found in range 794633 to 794658\n",
      "Inf found in range 794634 to 794659\n",
      "Inf found in range 794635 to 794660\n",
      "Inf found in range 794636 to 794661\n",
      "Inf found in range 794637 to 794662\n",
      "Inf found in range 794638 to 794663\n",
      "Inf found in range 794639 to 794664\n",
      "Inf found in range 794640 to 794665\n",
      "Inf found in range 794641 to 794666\n",
      "Inf found in range 794642 to 794667\n",
      "Inf found in range 794643 to 794668\n",
      "Inf found in range 794644 to 794669\n",
      "Inf found in range 794645 to 794670\n",
      "Inf found in range 794646 to 794671\n",
      "Inf found in range 794647 to 794672\n",
      "Inf found in range 794648 to 794673\n",
      "Inf found in range 794649 to 794674\n",
      "Inf found in range 794650 to 794675\n",
      "Inf found in range 794651 to 794676\n",
      "Inf found in range 794652 to 794677\n",
      "Inf found in range 794653 to 794678\n",
      "Inf found in range 794654 to 794679\n",
      "Inf found in range 794655 to 794680\n",
      "Inf found in range 794656 to 794681\n",
      "Inf found in range 794657 to 794682\n",
      "Inf found in range 794658 to 794683\n",
      "Inf found in range 794659 to 794684\n",
      "Inf found in range 794660 to 794685\n",
      "Inf found in range 794661 to 794686\n",
      "Inf found in range 794662 to 794687\n",
      "Inf found in range 794663 to 794688\n",
      "Inf found in range 794664 to 794689\n",
      "Inf found in range 794665 to 794690\n",
      "Inf found in range 794666 to 794691\n"
     ]
    },
    {
     "name": "stderr",
     "output_type": "stream",
     "text": [
      "/home/lartpc/anaconda3/envs/dune_fd_pds/lib/python3.9/site-packages/numpy/core/_methods.py:48: RuntimeWarning: invalid value encountered in reduce\n",
      "  return umr_sum(a, axis, dtype, out, keepdims, initial, where)\n"
     ]
    }
   ],
   "source": [
    "# My local paths TODO Can git lfs resolve this?\n",
    "### Laptop path ###\n",
    "filepath_above_breakdown = 'csv/long_traces/10mswindow_25MHzSR_1kpts_10mVperdiv_ch4_44.135VBias/'\n",
    "filenames_above_breakdown = glob.glob(filepath_above_breakdown+'*.csv')\n",
    "### CSU Machine path ###\n",
    "#filepath_above_breakdown = '../csv/long_traces/10mswindow_25MHzSR_1kpts_10mVperdiv_ch4_44.135VBias/'\n",
    "#filenames_above_breakdown = glob.glob(filepath_above_breakdown+'*.csv')\n",
    "\n",
    "candidate_count_abd = 0\n",
    "window_size = 1e-6    # Desired window size of 1 mus\n",
    "# TODO Automatically get this from csv header\n",
    "sample_interval = 4e-8\n",
    "steps_in_window = int(window_size / sample_interval)\n",
    "time_buffer = math.ceil(steps_in_window / 2)\n",
    "candidate_threshold = 2 # nV*s\n",
    "integrals = []\n",
    "candidate_integrals = []\n",
    "# Loop files \n",
    "for file_abd in filenames_above_breakdown:\n",
    "    print('Looping file', file_abd)\n",
    "    trace = np.loadtxt(file_abd,delimiter=',', skiprows=10)\n",
    "    time    = trace[:,0]\n",
    "    voltage = trace[:,1]*1e9 # Convert to nV for integral (want nV*s)\n",
    "    start_index = 0\n",
    "    while start_index < (len(time) - steps_in_window):\n",
    "        window_integral = np.trapz(voltage[start_index:(start_index+steps_in_window)], x=time[start_index:(start_index+steps_in_window)])\n",
    "        if math.isinf(window_integral):\n",
    "            print('Inf found in range', start_index, 'to', start_index+steps_in_window)\n",
    "        integrals.append(window_integral)\n",
    "        if window_integral > candidate_threshold:\n",
    "            candidate_count_abd += 1\n",
    "            candidate_integrals.append(window_integral)\n",
    "            # If candidate is found, shift the window forward to avoid multi-counting\n",
    "            start_index += time_buffer\n",
    "        else:\n",
    "            start_index += 1\n",
    "            \n",
    "    print('Canddiate count after this file:', candidate_count_abd)\n",
    "            \n",
    "print('Found', candidate_count_abd, 'candidates above breakdown')"
   ]
  },
  {
   "cell_type": "code",
   "execution_count": 38,
   "id": "1b75aa58-49c7-4d5b-8e95-1bab44621383",
   "metadata": {},
   "outputs": [
    {
     "data": {
      "image/png": "[encoded data removed]",
      "text/plain": [
       "<Figure size 432x288 with 1 Axes>"
      ]
     },
     "metadata": {
      "needs_background": "light"
     },
     "output_type": "display_data"
    }
   ],
   "source": [
    "### Test ranges ###\n",
    "# 80500:80700, window 80583 to 80608\n",
    "# 115600:115650, window 115605 to 115630\n",
    "# 335450:335550, window 335470 to 335495\n",
    "filepath_above_breakdown = '../csv/long_traces/10mswindow_25MHzSR_1kpts_10mVperdiv_ch4_44.135VBias/'\n",
    "filenames_above_breakdown = glob.glob(filepath_above_breakdown+'*.csv')\n",
    "test_trace = np.loadtxt(filenames_above_breakdown[0] ,delimiter=',', skiprows=10)\n",
    "test_time = test_trace[:,0]*1e6\n",
    "test_voltage = test_trace[:,1]\n",
    "left_index = 115600\n",
    "right_index = 115650\n",
    "left_window_index = 115605\n",
    "right_window_index = 115630\n",
    "plt.axvline(test_time[left_window_index], color='r')\n",
    "plt.axvline(test_time[right_window_index], color='r')\n",
    "plt.plot(test_time[left_index:right_index], test_voltage[left_index:right_index])\n",
    "plt.gca().xaxis.set_major_formatter(mtick.FormatStrFormatter('%1.0e')) "
   ]
  },
  {
   "cell_type": "code",
   "execution_count": 12,
   "id": "3a9ce3ec-ea6a-49fd-a8b9-a3a97a238e37",
   "metadata": {},
   "outputs": [
    {
     "name": "stdout",
     "output_type": "stream",
     "text": [
      "-0.0047765625\n",
      "-0.00631875\n",
      "-0.0011421875\n",
      "0.00015\n",
      "-0.0023734375\n",
      "-0.0016078125\n",
      "-0.0010546875\n",
      "0.0015828125\n",
      "0.013415625\n",
      "0.010646875\n",
      "0.0093890625\n",
      "0.0510984375\n",
      "inf\n",
      "inf\n",
      "inf\n",
      "inf\n",
      "0.0552703125\n",
      "inf\n",
      "0.0460390625\n",
      "0.040465625\n",
      "0.0409875\n",
      "0.0312375\n",
      "0.030396875\n",
      "0.0348\n",
      "0.0284734375\n"
     ]
    }
   ],
   "source": [
    "for v in test_voltage[80583:80608]:\n",
    "    print(v)"
   ]
  },
  {
   "cell_type": "code",
   "execution_count": 5,
   "id": "4f310fda-0db0-486f-b7dd-f9d72ef48b42",
   "metadata": {},
   "outputs": [
    {
     "name": "stdout",
     "output_type": "stream",
     "text": [
      "Looping file ../csv/long_traces/10mswindow_25MHzSR_1kpts_10mVperdiv_ch4_10.935VBias/trace_ch4_20220607150151022.csv\n",
      "Sample interval 4e-08\n",
      "Steps in window 25\n",
      "Canddiate count after this file: 8372\n",
      "Looping file ../csv/long_traces/10mswindow_25MHzSR_1kpts_10mVperdiv_ch4_10.935VBias/trace_ch4_20220607150321808.csv\n",
      "Sample interval 4e-08\n",
      "Steps in window 25\n",
      "Canddiate count after this file: 8377\n",
      "Looping file ../csv/long_traces/10mswindow_25MHzSR_1kpts_10mVperdiv_ch4_10.935VBias/trace_ch4_20220607150051062.csv\n",
      "Sample interval 4e-08\n",
      "Steps in window 25\n",
      "Canddiate count after this file: 9503\n",
      "Looping file ../csv/long_traces/10mswindow_25MHzSR_1kpts_10mVperdiv_ch4_10.935VBias/trace_ch4_20220607150524078.csv\n",
      "Sample interval 4e-08\n",
      "Steps in window 25\n",
      "Canddiate count after this file: 9503\n",
      "Looping file ../csv/long_traces/10mswindow_25MHzSR_1kpts_10mVperdiv_ch4_10.935VBias/trace_ch4_20220607150352676.csv\n",
      "Sample interval 4e-08\n",
      "Steps in window 25\n",
      "Canddiate count after this file: 9530\n",
      "Looping file ../csv/long_traces/10mswindow_25MHzSR_1kpts_10mVperdiv_ch4_10.935VBias/trace_ch4_20220607150453502.csv\n",
      "Sample interval 4e-08\n",
      "Steps in window 25\n",
      "Canddiate count after this file: 10986\n",
      "Looping file ../csv/long_traces/10mswindow_25MHzSR_1kpts_10mVperdiv_ch4_10.935VBias/trace_ch4_20220607150251882.csv\n",
      "Sample interval 4e-08\n",
      "Steps in window 25\n",
      "Canddiate count after this file: 16864\n",
      "Looping file ../csv/long_traces/10mswindow_25MHzSR_1kpts_10mVperdiv_ch4_10.935VBias/trace_ch4_20220607150121148.csv\n",
      "Sample interval 4e-08\n",
      "Steps in window 25\n",
      "Canddiate count after this file: 18854\n",
      "Looping file ../csv/long_traces/10mswindow_25MHzSR_1kpts_10mVperdiv_ch4_10.935VBias/trace_ch4_20220607150221105.csv\n",
      "Sample interval 4e-08\n",
      "Steps in window 25\n",
      "Canddiate count after this file: 18889\n",
      "Looping file ../csv/long_traces/10mswindow_25MHzSR_1kpts_10mVperdiv_ch4_10.935VBias/trace_ch4_20220607150423632.csv\n",
      "Sample interval 4e-08\n",
      "Steps in window 25\n",
      "Canddiate count after this file: 19052\n",
      "Found 19052 candidates below breakdown\n"
     ]
    }
   ],
   "source": [
    "filepath_below_breakdown = '../csv/long_traces/10mswindow_25MHzSR_1kpts_10mVperdiv_ch4_10.935VBias/'\n",
    "filenames_below_breakdown = glob.glob(filepath_below_breakdown+'*.csv')\n",
    "\n",
    "candidate_count_bbd = 0\n",
    "window_size = 1e-6    # Desired window size of 1 mus\n",
    "# TODO Automatically get this from csv header\n",
    "sample_interval = 4e-8\n",
    "steps_in_window = int(window_size / sample_interval)\n",
    "time_buffer = math.ceil(steps_in_window / 2)\n",
    "candidate_threshold = 2 # nV*s\n",
    "# Loop files \n",
    "for file_bbd in filenames_below_breakdown:\n",
    "    print('Looping file', file_bbd)\n",
    "    trace = np.loadtxt(file_bbd,delimiter=',', skiprows=10)\n",
    "    time    = trace[:,0]\n",
    "    voltage = trace[:,1]*1e9 # Convert to nV for integral (want nV*s)\n",
    "    start_index = 0\n",
    "    while start_index < (len(time) - steps_in_window):\n",
    "        window_integral = np.trapz(voltage[start_index:(start_index+steps_in_window)], x=time[start_index:(start_index+steps_in_window)])\n",
    "        if window_integral > candidate_threshold:\n",
    "            candidate_count_bbd += 1\n",
    "            # If candidate is found, shift the window forward to avoid multi-counting\n",
    "            start_index += time_buffer\n",
    "        else:\n",
    "            start_index += 1\n",
    "            \n",
    "    print('Canddiate count after this file:', candidate_count_bbd)\n",
    "            \n",
    "print('Found', candidate_count_bbd, 'candidates below breakdown')"
   ]
  },
  {
   "cell_type": "code",
   "execution_count": 4,
   "id": "d2bb3bfd-9760-4a2c-85b0-6d8084329911",
   "metadata": {},
   "outputs": [],
   "source": [
    "# Integrate in window of length 1 microsecond in steps of 40 ns\n",
    "#print(trace_time)\n",
    "integrals = []\n",
    "for i in range(0, len(trace_time)-steps_in_window):\n",
    "    # Factor of 1e3 converts microseconds to nanoseconds \n",
    "    # Factor of 1e-3 converts mV to V\n",
    "    integrals.append(np.trapz(voltage[i:i+steps_in_window]*1e-3, x=trace_time[i:i+steps_in_window])*1e3)\n",
    "    if integrals[i] > 2: # 2 ns*V indicates single photon peak\n",
    "        print('Hey look a thing')"
   ]
  },
  {
   "cell_type": "code",
   "execution_count": 17,
   "id": "979e1bf4-6244-4170-a888-001758382d9e",
   "metadata": {},
   "outputs": [
    {
     "name": "stdout",
     "output_type": "stream",
     "text": [
      "Left window edge: -5.710885e-06\n",
      "Right window edge: -4.710885e-06\n",
      "Window length in microseconds: 9.999999999999997e-07\n"
     ]
    },
    {
     "data": {
      "text/plain": [
       "<matplotlib.lines.Line2D at 0x7f655ea88910>"
      ]
     },
     "execution_count": 17,
     "metadata": {},
     "output_type": "execute_result"
    },
    {
     "data": {
      "image/png": "[encoded data removed]",
      "text/plain": [
       "<Figure size 432x288 with 1 Axes>"
      ]
     },
     "metadata": {
      "needs_background": "light"
     },
     "output_type": "display_data"
    }
   ],
   "source": [
    "# Plot integration window for sanity check\n",
    "# TODO Calculate steps_in_window rather than hard code\n",
    "#steps_in_window = 250\n",
    "print('Left window edge:', time[0])\n",
    "print('Right window edge:', time[steps_in_window])\n",
    "print('Window length in microseconds:', time[steps_in_window] - time[0])\n",
    "plt.plot(time, voltage)\n",
    "plt.axvline(time[0], color='r')\n",
    "plt.axvline(time[steps_in_window], color='r')"
   ]
  },
  {
   "cell_type": "code",
   "execution_count": null,
   "id": "b2574851-6d22-499c-a4ff-05b476682ef8",
   "metadata": {},
   "outputs": [],
   "source": []
  }
 ],
 "metadata": {
  "kernelspec": {
   "display_name": "Python 3 (ipykernel)",
   "language": "python",
   "name": "python3"
  },
  "language_info": {
   "codemirror_mode": {
    "name": "ipython",
    "version": 3
   },
   "file_extension": ".py",
   "mimetype": "text/x-python",
   "name": "python",
   "nbconvert_exporter": "python",
   "pygments_lexer": "ipython3",
   "version": "3.9.7"
  }
 },
 "nbformat": 4,
 "nbformat_minor": 5
}
