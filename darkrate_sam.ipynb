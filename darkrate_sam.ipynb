{
 "cells": [
  {
   "cell_type": "code",
   "execution_count": 1,
   "metadata": {},
   "outputs": [],
   "source": [
    "# using python 3.9.7\n",
    "# analysis script for looking for single or multi photon events in the photon detectors."
   ]
  },
  {
   "cell_type": "code",
   "execution_count": 1,
   "metadata": {},
   "outputs": [],
   "source": [
    "from os import listdir\n",
    "import numpy as np\n",
    "import matplotlib.pyplot as plt\n",
    "from darkrate_fxns_sam import *\n",
    "from scipy import interpolate"
   ]
  },
  {
   "cell_type": "code",
   "execution_count": 2,
   "metadata": {},
   "outputs": [
    {
     "name": "stdout",
     "output_type": "stream",
     "text": [
      "['trace_ch4_20220607150151022.csv', 'trace_ch4_20220607150251882.csv', 'trace_ch4_20220607150121148.csv', 'trace_ch4_20220607150453502.csv', 'trace_ch4_20220607150423632.csv', 'trace_ch4_20220607150221105.csv', 'trace_ch4_20220607150051062.csv', 'trace_ch4_20220607150352676.csv', 'trace_ch4_20220607150524078.csv', 'trace_ch4_20220607150321808.csv']\n"
     ]
    }
   ],
   "source": [
    "# acquire all file names in directory\n",
    "filespath = '/Users/samuelfogarty/OneDrive/Desktop/OneDrive/photondetectortests/data/singlephotonsearch/'\n",
    "#abovebreakdown = '12usecwindow__25MHzSR_1kpts_10mVperdiv_ch4_44.135Bias'\n",
    "#belowbreakdown = '12usecwindow_25MHzSR_1kpts_10mVperdiv_ch4_10.932VBias'\n",
    "abovebreakdown = '10mswindow_25MHzSR_1kpts_10mVperdiv_ch4_44.135VBias'\n",
    "belowbreakdown = '10mswindow_25MHzSR_1kpts_10mVperdiv_ch4_10.935VBias'\n",
    "\n",
    "\n",
    "# file path of each directory\n",
    "filespath_bbd = filespath + belowbreakdown\n",
    "filespath_abd = filespath + abovebreakdown\n",
    "# list of file names in each directory\n",
    "filenames_bbd = os.listdir(filespath_bbd)\n",
    "filenames_abd = os.listdir(filespath_abd)\n",
    "print(filenames_bbd)\n",
    "#filenames_bbd = filenames_bbd[0:4]\n",
    "#filenames_abd = filenames_abd[0:4]\n",
    "#filenames_abd = ['wvfm_25MHzSR_44.329VBias_10msPerDiv_2.5Mpts_module4_000_ALL.csv']"
   ]
  },
  {
   "cell_type": "code",
   "execution_count": null,
   "metadata": {},
   "outputs": [],
   "source": []
  },
  {
   "cell_type": "code",
   "execution_count": 3,
   "metadata": {},
   "outputs": [
    {
     "name": "stdout",
     "output_type": "stream",
     "text": [
      "-0.00014114612453195027\n",
      "-9.280509608428752e-05\n",
      "-9.871947691917828e-05\n",
      "-9.296865937465182e-05\n",
      "-6.871172384535692e-05\n",
      "-8.538505050376095e-05\n",
      "-7.540945808870503e-05\n",
      "-8.480465329167681e-05\n",
      "-0.00011553800453926709\n",
      "-0.00010130666869128181\n"
     ]
    }
   ],
   "source": [
    "# loop through each file, above and below breakdown\n",
    "ncandidates_abd,ncandidates_bbd = 0,0\n",
    "total_candidate_integrals_abd,total_candidate_integrals_bbd = np.array([]),np.array([])\n",
    "window_start_indices_abd,window_end_indices_abd = np.array([]), np.array([])\n",
    "window_start_indices_bbd,window_end_indices_bbd = np.array([]),np.array([])\n",
    "points = 100000 # to average for voltage baseline\n",
    "\n",
    "for filename_abd in filenames_abd:\n",
    "    filepath_abd = filespath_abd + '/' + filename_abd\n",
    "    t, V = getData(filepath_abd)\n",
    "    nonInfOrNaN = np.isfinite(V)\n",
    "    isInfOrNaN = np.invert(nonInfOrNaN)\n",
    "    V_finite = V[nonInfOrNaN]\n",
    "    t_finite = t[nonInfOrNaN]\n",
    "    f = interpolate.interp1d(t_finite, V_finite,kind='cubic')\n",
    "    f_voltages = f(t)\n",
    "    V = f_voltages\n",
    "    #V_inf = np.isinf(V)\n",
    "    #V[V_inf] = 0.0000001\n",
    "    #V_baseline = np.mean(V, where = np.isfinite(V))\n",
    "    V_baseline = np.mean(V)\n",
    "    print(V_baseline)\n",
    "    #voltage_baseline = np.sum(V[0:points])/points\n",
    "    #V -= V_baseline\n",
    "    darkcount, photon_candidates,window_start_indices, window_end_indices = findcandidates(t,V)\n",
    "    total_candidate_integrals_abd = np.concatenate((total_candidate_integrals_abd,photon_candidates))\n",
    "    window_start_indices_abd = np.concatenate((window_start_indices_abd, window_start_indices))\n",
    "    window_end_indices_abd = np.concatenate((window_end_indices_abd, window_end_indices))\n",
    "    ncandidates_abd += darkcount\n",
    "    #print(len(total_candidate_integrals_abd))\n",
    "for filename_bbd in filenames_bbd:\n",
    "    filepath_bbd = filespath_bbd + '/' + filename_bbd\n",
    "    t, V = getData(filepath_bbd)\n",
    "    nonInfOrNaN = np.isfinite(V)\n",
    "    isInfOrNaN = np.invert(nonInfOrNaN)\n",
    "    V_finite = V[nonInfOrNaN]\n",
    "    t_finite = t[nonInfOrNaN]\n",
    "    f = interpolate.interp1d(t_finite, V_finite,kind='cubic')\n",
    "    f_voltages = f(t)\n",
    "    V = f_voltages\n",
    "    #V_inf = np.isinf(V)\n",
    "    #V[V_inf] = 0.0000001\n",
    "    #voltage_baseline = np.sum(V[0:points])/points\n",
    "    #V_baseline = np.mean(V, where = np.isfinite(V))\n",
    "    V_baseline = np.mean(V)\n",
    "    V -= V_baseline\n",
    "    darkcount, photon_candidates,window_start_indices, window_end_indices = findcandidates(t,V)\n",
    "    total_candidate_integrals_bbd = np.concatenate((total_candidate_integrals_bbd,photon_candidates))\n",
    "    window_start_indices_bbd = np.concatenate((window_start_indices_bbd, window_start_indices))\n",
    "    window_end_indices_bbd = np.concatenate((window_end_indices_bbd, window_end_indices))\n",
    "    ncandidates_bbd += darkcount\n",
    "\n",
    "#total_candidate_integrals_abd = np.array(total_candidate_integrals_abd)\n",
    "#total_candidate_integrals_bbd = np.array(total_candidate_integrals_bbd)"
   ]
  },
  {
   "cell_type": "code",
   "execution_count": 5,
   "metadata": {},
   "outputs": [],
   "source": [
    "#print(\"The number of infinities abd = \",np.sum(np.isinf(total_candidate_integrals_abd)))\n",
    "#print(\"The number of infinities bbd = \",np.sum(np.isinf(total_candidate_integrals_bbd)))\n",
    "#selectinfinities_abd = np.isinf(total_candidate_integrals_abd)\n",
    "#selectinfinities_bbd = np.isinf(total_candidate_integrals_bbd)\n",
    "#total_candidate_integrals_abd_noninfinity = total_candidate_integrals_abd[np.invert(selectinfinities_abd)]\n",
    "#total_candidate_integrals_bbd_noninfinity = total_candidate_integrals_bbd[np.invert(selectinfinities_bbd)]"
   ]
  },
  {
   "cell_type": "code",
   "execution_count": 4,
   "metadata": {},
   "outputs": [],
   "source": [
    "total_candidate_integrals_abd_noninfinity = total_candidate_integrals_abd\n",
    "total_candidate_integrals_bbd_noninfinity = total_candidate_integrals_bbd"
   ]
  },
  {
   "cell_type": "code",
   "execution_count": 7,
   "metadata": {},
   "outputs": [
    {
     "name": "stdout",
     "output_type": "stream",
     "text": [
      "36738\n",
      "30384\n"
     ]
    },
    {
     "name": "stderr",
     "output_type": "stream",
     "text": [
      "No handles with labels found to put in legend.\n",
      "/var/folders/dc/52hbwd7j7hz065sqpvxpqy280000gn/T/ipykernel_70548/126407374.py:26: RuntimeWarning: divide by zero encountered in true_divide\n",
      "  counts_diff = (counts_abd/np.max(counts_abd) * adjust_abd)/(counts_bbd/np.max(counts_bbd) * adjust_bbd)\n",
      "/var/folders/dc/52hbwd7j7hz065sqpvxpqy280000gn/T/ipykernel_70548/126407374.py:26: RuntimeWarning: invalid value encountered in true_divide\n",
      "  counts_diff = (counts_abd/np.max(counts_abd) * adjust_abd)/(counts_bbd/np.max(counts_bbd) * adjust_bbd)\n"
     ]
    },
    {
     "data": {
      "text/plain": [
       "Text(0.5, 1.0, 'normalized-histogram ratio')"
      ]
     },
     "execution_count": 7,
     "metadata": {},
     "output_type": "execute_result"
    },
    {
     "data": {
      "image/png": "[encoded data removed]",
      "text/plain": [
       "<Figure size 432x864 with 2 Axes>"
      ]
     },
     "metadata": {
      "needs_background": "light"
     },
     "output_type": "display_data"
    }
   ],
   "source": [
    "# histogram the integrals\n",
    "adjust_abd = 1.0\n",
    "adjust_bbd = 1.0\n",
    "fig, axes = plt.subplots(nrows=2, ncols=1, sharex=False, sharey=False, figsize=(6,12))\n",
    "binnum = 1000\n",
    "rangemax = 5e-9\n",
    "binwidth = 2*rangemax/binnum\n",
    "counts_abd, bins_abd = np.histogram(total_candidate_integrals_abd_noninfinity,range=(-1*rangemax,rangemax), bins=binnum)\n",
    "counts_bbd, bins_bbd = np.histogram(total_candidate_integrals_bbd_noninfinity,range=(-1*rangemax,rangemax), bins=binnum)\n",
    "#axes[0].hist(bins_abd[:-1]*1e9, bins_abd*1e9, weights=counts_abd/np.max(counts_abd),label='above threshold')\n",
    "#axes[1].hist(bins_bbd[:-1]*1e9, bins_bbd*1e9, weights=counts_bbd/np.max(counts_bbd),label='below threshold')\n",
    "print(np.max(counts_abd))\n",
    "print(np.max(counts_bbd))\n",
    "#axes[0].bar(bins_abd[:-1]*1e9, counts_abd/np.max(counts_abd) * adjust_abd, width = binwidth*1e9, align = 'center',label='at breakdown',zorder=1,alpha=0.4)\n",
    "#axes[0].bar(bins_bbd[:-1]*1e9, counts_bbd/np.max(counts_bbd) *adjust_bbd, width = binwidth*1e9, align = 'center',label='below breakdown',zorder=0,alpha=0.4)\n",
    "axes[0].set_title('Integrals histogram (mod-3, ch4)')\n",
    "axes[0].hist(total_candidate_integrals_abd_noninfinity*1e9,range=(-10,10), bins=1000,label='above threshold')\n",
    "axes[0].hist(total_candidate_integrals_bbd_noninfinity*1e9,range=(-10,10) ,bins=1000,label='below threshold')\n",
    "axes[0].legend()\n",
    "axes[1].legend()\n",
    "axes[0].set_xlabel('nVs')\n",
    "axes[1].set_xlabel('nVs')\n",
    "#axes[0].set_xlim(-2.5,2.5)\n",
    "#axes[1].set_xlim(-2.5,2.5)\n",
    "\n",
    "counts_diff = (counts_abd/np.max(counts_abd) * adjust_abd)/(counts_bbd/np.max(counts_bbd) * adjust_bbd)\n",
    "axes[1].bar(bins_abd[:-1]*1e9, counts_diff, width = binwidth*1e9, align = 'center')\n",
    "axes[1].set_title('normalized-histogram ratio')\n",
    "#plt.savefig('mod4_ch4_integrals_rolling.pdf')\n",
    "#axes[0].set_xlabel('nVs')\n",
    "#plt.title('Integrals, above threshold')\n",
    "#plt.xlabel('nVs')\n",
    "#plt.legend()\n",
    "#plt.show()"
   ]
  },
  {
   "cell_type": "code",
   "execution_count": 25,
   "metadata": {},
   "outputs": [
    {
     "data": {
      "text/plain": [
       "49.656265650156655"
      ]
     },
     "execution_count": 25,
     "metadata": {},
     "output_type": "execute_result"
    }
   ],
   "source": [
    "np.sum(np.isinf(total_candidate_integrals_abd))/ncandidates_abd * 100"
   ]
  },
  {
   "cell_type": "code",
   "execution_count": 29,
   "metadata": {},
   "outputs": [
    {
     "data": {
      "text/plain": [
       "array([-0.025])"
      ]
     },
     "execution_count": 29,
     "metadata": {},
     "output_type": "execute_result"
    }
   ],
   "source": [
    "bins_abd[1:][counts_abd/np.max(counts_abd) == 1] * 1e9"
   ]
  },
  {
   "cell_type": "code",
   "execution_count": 14,
   "metadata": {},
   "outputs": [
    {
     "name": "stderr",
     "output_type": "stream",
     "text": [
      "No handles with labels found to put in legend.\n"
     ]
    },
    {
     "data": {
      "image/png": "[encoded data removed]",
      "text/plain": [
       "<Figure size 432x288 with 1 Axes>"
      ]
     },
     "metadata": {
      "needs_background": "light"
     },
     "output_type": "display_data"
    }
   ],
   "source": [
    "## a more hard coded way of normalizing\n",
    "counts_abd, bins_abd = np.histogram(total_candidate_integrals_abd_noninfinity, bins=10,range=(6e-9,30.0e-9))\n",
    "counts_bbd, bins_bbd = np.histogram(total_candidate_integrals_bbd_noninfinity, bins=10,range=(6e-9,30.0e-9))\n",
    "plt.hist(bins_abd[:-1]*1e9, bins_abd*1e9, weights=counts_abd)\n",
    "#plt.hist(bins_bbd[:-1]*1e9, bins_bbd*1e9, weights=counts_bbd)\n",
    "#plt.title('Integrals normalized')\n",
    "plt.xlabel('nVs')\n",
    "plt.legend()\n",
    "plt.show()"
   ]
  },
  {
   "cell_type": "code",
   "execution_count": 37,
   "metadata": {},
   "outputs": [],
   "source": [
    "# histogram the integrals\n",
    "\n",
    "#plt.hist(total_candidate_integrals_abd_noninfinity*1e9, density=True,bins=100,label='above threshold')\n",
    "#plt.hist(total_candidate_integrals_bbd_noninfinity*1e9, density=True,bins=100,label='below threshold')\n",
    "#plt.title('Integrals normalized')\n",
    "#plt.xlabel('nVs')\n",
    "#plt.legend()\n",
    "#plt.show()"
   ]
  },
  {
   "cell_type": "code",
   "execution_count": 12,
   "metadata": {},
   "outputs": [
    {
     "name": "stdout",
     "output_type": "stream",
     "text": [
      "number of photon candidates below breakdown =  335436\n",
      "number of photon candidates above breakdown =  337606\n",
      "The number of infinities abd =  6759\n",
      "The number of infinities bbd =  1039\n",
      "Percentage of infinities at breakdown =  2.002037878473724\n",
      "Percentage of infinities below breakdown =  0.3097461214657938\n"
     ]
    }
   ],
   "source": [
    "print(\"number of photon candidates below breakdown = \",ncandidates_bbd)\n",
    "print(\"number of photon candidates above breakdown = \",ncandidates_abd)\n",
    "print(\"The number of infinities abd = \",np.sum(np.isinf(total_candidate_integrals_abd)))\n",
    "print(\"The number of infinities bbd = \",np.sum(np.isinf(total_candidate_integrals_bbd)))\n",
    "print(\"Percentage of infinities at breakdown = \", np.sum(np.isinf(total_candidate_integrals_abd))/ncandidates_abd * 100)\n",
    "print(\"Percentage of infinities below breakdown = \", np.sum(np.isinf(total_candidate_integrals_bbd))/ncandidates_bbd * 100)"
   ]
  },
  {
   "cell_type": "code",
   "execution_count": 7,
   "metadata": {},
   "outputs": [
    {
     "name": "stdout",
     "output_type": "stream",
     "text": [
      "Dark count rate estimate =  105120.0\n"
     ]
    }
   ],
   "source": [
    "DCR = (ncandidates_abd - ncandidates_bbd)/0.1\n",
    "print('Dark count rate estimate = ', DCR)"
   ]
  },
  {
   "cell_type": "code",
   "execution_count": 39,
   "metadata": {},
   "outputs": [],
   "source": [
    "# look at candidates visually\n",
    "filepath_abd = filespath_abd + '/' + filenames_abd[0]\n",
    "t, V = getData(filepath_abd)\n",
    "windows_start_indices_abd, windows_end_indices_abd = findwindows(t,V)\n",
    "#candidates = findcandidates(t,V)"
   ]
  },
  {
   "cell_type": "code",
   "execution_count": 40,
   "metadata": {},
   "outputs": [],
   "source": [
    "# clear evidence that there are duplicates\n",
    "#print(windows_start_indices_abd[0:25])\n",
    "#print(windows_end_indices_abd[0:25])"
   ]
  },
  {
   "cell_type": "code",
   "execution_count": 15,
   "metadata": {},
   "outputs": [
    {
     "data": {
      "text/plain": [
       "[<matplotlib.lines.Line2D at 0x7f9e01293e20>]"
      ]
     },
     "execution_count": 15,
     "metadata": {},
     "output_type": "execute_result"
    },
    {
     "data": {
      "image/png": "[encoded data removed]",
      "text/plain": [
       "<Figure size 432x288 with 1 Axes>"
      ]
     },
     "metadata": {
      "needs_background": "light"
     },
     "output_type": "display_data"
    }
   ],
   "source": [
    "sel = 1\n",
    "firstindex = windows_start_indices_abd[sel]\n",
    "lastindex = windows_end_indices_abd[sel]\n",
    "plt.plot(t[firstindex:lastindex], V[firstindex:lastindex], 'bo')\n"
   ]
  },
  {
   "cell_type": "code",
   "execution_count": 13,
   "metadata": {},
   "outputs": [],
   "source": [
    "window_start_indices_abd = np.int32(window_start_indices_abd)\n",
    "window_end_indices_abd = np.int32(window_end_indices_abd)\n",
    "window_start_indices_bbd = np.int32(window_start_indices_bbd)\n",
    "window_end_indices_bbd = np.int32(window_end_indices_bbd)"
   ]
  },
  {
   "cell_type": "code",
   "execution_count": 18,
   "metadata": {},
   "outputs": [],
   "source": [
    "window_start_indices_abd_infinities = window_start_indices_abd[selectinfinities_abd]\n",
    "window_end_indices_abd_infinities = window_end_indices_abd[selectinfinities_abd]"
   ]
  },
  {
   "cell_type": "code",
   "execution_count": 20,
   "metadata": {},
   "outputs": [
    {
     "data": {
      "text/plain": [
       "array([ 26934,  59781,  66683, ..., 432627, 376718, 376742], dtype=int32)"
      ]
     },
     "execution_count": 20,
     "metadata": {},
     "output_type": "execute_result"
    }
   ],
   "source": [
    "start_index = window_start_indices_abd_infinities[0]\n",
    "end_index = window_end_indices_abd_infinities[0]\n"
   ]
  },
  {
   "cell_type": "markdown",
   "metadata": {},
   "source": []
  }
 ],
 "metadata": {
  "interpreter": {
   "hash": "29a586c7257b42ac049708e85f079f5891c9ec57995ce95f1b5b636d2f26283b"
  },
  "kernelspec": {
   "display_name": "Python 3.9.7 ('base')",
   "language": "python",
   "name": "python3"
  },
  "language_info": {
   "codemirror_mode": {
    "name": "ipython",
    "version": 3
   },
   "file_extension": ".py",
   "mimetype": "text/x-python",
   "name": "python",
   "nbconvert_exporter": "python",
   "pygments_lexer": "ipython3",
   "version": "3.9.7"
  },
  "orig_nbformat": 4
 },
 "nbformat": 4,
 "nbformat_minor": 2
}
