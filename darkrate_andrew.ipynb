{
 "cells": [
  {
   "cell_type": "code",
   "execution_count": 1,
   "id": "e6786a4d-df1d-4537-8e0e-61b5f4e30b67",
   "metadata": {},
   "outputs": [],
   "source": [
    "import numpy as np\n",
    "import pandas as pd\n",
    "import matplotlib.pyplot as plt"
   ]
  },
  {
   "cell_type": "code",
   "execution_count": 4,
   "id": "0ee886e9-a327-4d17-906a-213509c96a0f",
   "metadata": {},
   "outputs": [
    {
     "data": {
      "text/html": [
       "<div>\n",
       "<style scoped>\n",
       "    .dataframe tbody tr th:only-of-type {\n",
       "        vertical-align: middle;\n",
       "    }\n",
       "\n",
       "    .dataframe tbody tr th {\n",
       "        vertical-align: top;\n",
       "    }\n",
       "\n",
       "    .dataframe thead th {\n",
       "        text-align: right;\n",
       "    }\n",
       "</style>\n",
       "<table border=\"1\" class=\"dataframe\">\n",
       "  <thead>\n",
       "    <tr style=\"text-align: right;\">\n",
       "      <th></th>\n",
       "      <th>TIME</th>\n",
       "      <th>CH1</th>\n",
       "      <th>CH2</th>\n",
       "      <th>CH3</th>\n",
       "      <th>CH4</th>\n",
       "    </tr>\n",
       "  </thead>\n",
       "  <tbody>\n",
       "    <tr>\n",
       "      <th>0</th>\n",
       "      <td>-0.04</td>\n",
       "      <td>0.007906</td>\n",
       "      <td>-0.002087</td>\n",
       "      <td>-0.000572</td>\n",
       "      <td>0.001872</td>\n",
       "    </tr>\n",
       "    <tr>\n",
       "      <th>1</th>\n",
       "      <td>-0.04</td>\n",
       "      <td>-0.012828</td>\n",
       "      <td>-0.002719</td>\n",
       "      <td>-0.002259</td>\n",
       "      <td>-0.000200</td>\n",
       "    </tr>\n",
       "    <tr>\n",
       "      <th>2</th>\n",
       "      <td>-0.04</td>\n",
       "      <td>-0.006797</td>\n",
       "      <td>-0.004700</td>\n",
       "      <td>0.000750</td>\n",
       "      <td>-0.001222</td>\n",
       "    </tr>\n",
       "    <tr>\n",
       "      <th>3</th>\n",
       "      <td>-0.04</td>\n",
       "      <td>-0.004516</td>\n",
       "      <td>-0.003025</td>\n",
       "      <td>0.001375</td>\n",
       "      <td>-0.002006</td>\n",
       "    </tr>\n",
       "    <tr>\n",
       "      <th>4</th>\n",
       "      <td>-0.04</td>\n",
       "      <td>-0.006063</td>\n",
       "      <td>-0.002559</td>\n",
       "      <td>0.001356</td>\n",
       "      <td>0.000441</td>\n",
       "    </tr>\n",
       "  </tbody>\n",
       "</table>\n",
       "</div>"
      ],
      "text/plain": [
       "   TIME       CH1       CH2       CH3       CH4\n",
       "0 -0.04  0.007906 -0.002087 -0.000572  0.001872\n",
       "1 -0.04 -0.012828 -0.002719 -0.002259 -0.000200\n",
       "2 -0.04 -0.006797 -0.004700  0.000750 -0.001222\n",
       "3 -0.04 -0.004516 -0.003025  0.001375 -0.002006\n",
       "4 -0.04 -0.006063 -0.002559  0.001356  0.000441"
      ]
     },
     "execution_count": 4,
     "metadata": {},
     "output_type": "execute_result"
    }
   ],
   "source": [
    "# File path on my local machine\n",
    "#filepath = '../csv/long_traces_June07_2022/12mus_25MHzSr_1kpts_10mVperdiv_ch4_44.135Bias/'\n",
    "filepath = '../csv/long_traces_June08_2022/'\n",
    "filename = 'wvfm_25MHzSR_44.134VBias_10msPerDiv_2.5Mpts_000_ALL.csv'\n",
    "\n",
    "#traces = np.loadtxt(filepath+filename,delimiter=',', skiprows=10)\n",
    "df = pd.read_csv(filepath+filename, skiprows=10)\n",
    "df.head()\n",
    "# Factors of 10 convert s to mus and V to mV\n",
    "#trace_time = traces[:,0]\n",
    "#voltage    = traces[:,1]"
   ]
  },
  {
   "cell_type": "markdown",
   "id": "92caa4c4-264e-4f34-9ff9-d0e35cc529c4",
   "metadata": {},
   "source": [
    "Model\tMSO44\n",
    "\n",
    "Waveform Type\tANALOG\n",
    "\n",
    "Horizontal Units\ts\n",
    "\n",
    "Sample Interval\t4.00E-08\n",
    "\n",
    "\n",
    "Record Length\t1000\n",
    "\n",
    "Zero Index\t142.772125\n",
    "\n",
    "Vertical Units\tV\n",
    "\n",
    "ANALOG_Thumbnail\t\n",
    "\t"
   ]
  },
  {
   "cell_type": "code",
   "execution_count": 3,
   "id": "4f310fda-0db0-486f-b7dd-f9d72ef48b42",
   "metadata": {},
   "outputs": [
    {
     "name": "stdout",
     "output_type": "stream",
     "text": [
      "Left window edge: -0.5710885\n",
      "Right window edge: 0.42891150000000006\n",
      "Window length in microseconds: 1.0\n"
     ]
    },
    {
     "data": {
      "text/plain": [
       "<matplotlib.lines.Line2D at 0x7f04020af8b0>"
      ]
     },
     "execution_count": 3,
     "metadata": {},
     "output_type": "execute_result"
    },
    {
     "data": {
      "image/png": "[encoded data removed]",
      "text/plain": [
       "<Figure size 432x288 with 1 Axes>"
      ]
     },
     "metadata": {
      "needs_background": "light"
     },
     "output_type": "display_data"
    }
   ],
   "source": [
    "# Plot integration window for sanity check\n",
    "# TODO Calculate steps_in_window rather than hard code\n",
    "steps_in_window = 250\n",
    "print('Left window edge:', trace_time[0])\n",
    "print('Right window edge:', trace_time[steps_in_window])\n",
    "print('Window length in microseconds:', trace_time[steps_in_window] - trace_time[0])\n",
    "plt.plot(trace_time, voltage)\n",
    "plt.axvline(trace_time[0], color='r')\n",
    "plt.axvline(trace_time[steps_in_window], color='r')"
   ]
  },
  {
   "cell_type": "code",
   "execution_count": 4,
   "id": "d2bb3bfd-9760-4a2c-85b0-6d8084329911",
   "metadata": {},
   "outputs": [],
   "source": [
    "# Integrate in window of length 1 microsecond in steps of 40 ns\n",
    "#print(trace_time)\n",
    "integrals = []\n",
    "for i in range(0, len(trace_time)-steps_in_window):\n",
    "    # Factor of 1e3 converts microseconds to nanoseconds \n",
    "    # Factor of 1e-3 converts mV to V\n",
    "    integrals.append(np.trapz(voltage[i:i+steps_in_window]*1e-3, x=trace_time[i:i+steps_in_window])*1e3)\n",
    "    if integrals[i] > 2: # 2 ns*V indicates single photon peak\n",
    "        print('Hey look a thing')"
   ]
  },
  {
   "cell_type": "code",
   "execution_count": null,
   "id": "979e1bf4-6244-4170-a888-001758382d9e",
   "metadata": {},
   "outputs": [],
   "source": []
  }
 ],
 "metadata": {
  "kernelspec": {
   "display_name": "Python 3 (ipykernel)",
   "language": "python",
   "name": "python3"
  },
  "language_info": {
   "codemirror_mode": {
    "name": "ipython",
    "version": 3
   },
   "file_extension": ".py",
   "mimetype": "text/x-python",
   "name": "python",
   "nbconvert_exporter": "python",
   "pygments_lexer": "ipython3",
   "version": "3.9.7"
  }
 },
 "nbformat": 4,
 "nbformat_minor": 5
}
