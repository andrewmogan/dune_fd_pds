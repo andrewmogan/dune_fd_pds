{
 "cells": [
  {
   "cell_type": "code",
   "execution_count": null,
   "metadata": {},
   "outputs": [],
   "source": [
    "# using python 3.9.7\n",
    "# analysis script for looking for single or multi photon events in the photon detectors.\n",
    "# The nois"
   ]
  },
  {
   "cell_type": "code",
   "execution_count": 1,
   "metadata": {},
   "outputs": [],
   "source": [
    "from os import listdir\n",
    "import numpy as np\n",
    "import matplotlib.pyplot as plt"
   ]
  },
  {
   "cell_type": "code",
   "execution_count": 2,
   "metadata": {},
   "outputs": [],
   "source": [
    "# acquire all file names in directory\n",
    "filespath = '/Users/samuelfogarty/OneDrive/Desktop/OneDrive/photondetectortests/dune_fd_pds_data/singlephotonsearch/'\n",
    "#abovebreakdown = '12usecwindow__25MHzSR_1kpts_10mVperdiv_ch4_44.135Bias'\n",
    "#belowbreakdown = '12usecwindow_25MHzSR_1kpts_10mVperdiv_ch4_10.932VBias'\n",
    "abovebreakdown = '10mswindow_25MHzSR_1kpts_10mVperdiv_ch4_44.135VBias'\n",
    "belowbreakdown = '10mswindow_25MHzSR_1kpts_10mVperdiv_ch4_10.935VBias'\n",
    "\n",
    "# file path of each directory\n",
    "filespath_bbd = filespath + belowbreakdown\n",
    "filespath_abd = filespath + abovebreakdown\n",
    "# list of file names in each directory\n",
    "filenames_bbd = os.listdir(filespath_bbd)\n",
    "filenames_abd = os.listdir(filespath_abd)"
   ]
  },
  {
   "cell_type": "code",
   "execution_count": 3,
   "metadata": {},
   "outputs": [],
   "source": [
    "def readfile(filepath):\n",
    "    word,words = 0,0\n",
    "    ts, Vs1 = [], [] # seconds, volts\n",
    "\n",
    "\n",
    "    with open(filepath) as fp: # this line opens the file and makes sure to close it when all is done\n",
    "        line = fp.readline()\n",
    "        while line: # start read file loop\n",
    "            words = line.strip().split(',') # splits each line at a comma\n",
    "                                                # the strip part makes sure there aren't any weird characters left over at the start or end of a line\n",
    "            if (words[0] == 'TIME' and words[0] != ''): # finds where to start taking the data, may need to change \n",
    "                word = 1                                # for different files\n",
    "                line = fp.readline() # get next line\n",
    "                words = line.strip().split(',')\n",
    "            if word == 1 and words[0] != '': # this ensures it starts recording the data lines only \n",
    "                ts.append(words[0].strip())\n",
    "                Vs1.append(words[1].strip()) \n",
    "            line = fp.readline()\n",
    "    return ts, Vs1\n"
   ]
  },
  {
   "cell_type": "code",
   "execution_count": null,
   "metadata": {},
   "outputs": [],
   "source": [
    "t_window = 1 # desired window size; microseconds\n",
    "V_threshold = 2 # nVs\n",
    "t_buffer = 3 # usec"
   ]
  },
  {
   "cell_type": "code",
   "execution_count": 8,
   "metadata": {},
   "outputs": [],
   "source": [
    "numfiles = len(filenames_abd)\n",
    "#filepath_bbd = filespath_bbd + '/' + filenames_bbd[0]\n",
    "filepath_abd = filespath_abd + '/' + filenames_abd[0]\n",
    "#ts,Vs1 = readfile(filepath_bbd)\n",
    "ts,Vs1 = readfile(filepath_abd)\n",
    "# make into array and cast as floats\n",
    "ts = np.array(ts, dtype='float')\n",
    "Vs1 = np.array(Vs1, dtype='float')"
   ]
  },
  {
   "cell_type": "code",
   "execution_count": null,
   "metadata": {},
   "outputs": [],
   "source": []
  },
  {
   "cell_type": "code",
   "execution_count": 18,
   "metadata": {},
   "outputs": [],
   "source": [
    "# function to search for single or multi photon events\n",
    "def findcandidates(ts, Vs1):\n",
    "    t_spacing = ts[1] - ts[0]\n",
    "    npoints_window = int(t_window*1e-6/t_spacing) # number of points in window\n",
    "    photon_candidates = []\n",
    "    # roll through data with a specified time window, take integrals and look for single photon candidates\n",
    "    for index_start in range(0, len(ts) - npoints_window):\n",
    "        ts_sel = ts[index_start:(index_start + npoints_window)]\n",
    "        Vs1_sel = Vs1[index_start:(index_start + npoints_window)]\n",
    "        trace_integral = np.trapz(Vs1_sel, x=ts_sel)\n",
    "        if trace_integral > V_threshold*1e-9:\n",
    "            photon_candidates.append(trace_integral)\n",
    "    return photon_candidates\n"
   ]
  },
  {
   "cell_type": "code",
   "execution_count": 19,
   "metadata": {},
   "outputs": [],
   "source": [
    "# get times and voltages for a specified csv file\n",
    "def getData(filepath):\n",
    "    times,voltages = readfile(filepath)\n",
    "    ts = np.array(times, dtype='float')\n",
    "    Vs1 = np.array(voltages, dtype='float')\n",
    "    return ts, Vs1"
   ]
  },
  {
   "cell_type": "code",
   "execution_count": 21,
   "metadata": {},
   "outputs": [
    {
     "name": "stderr",
     "output_type": "stream",
     "text": [
      "/Users/samuelfogarty/opt/anaconda3/lib/python3.9/site-packages/numpy/core/_methods.py:47: RuntimeWarning: invalid value encountered in reduce\n",
      "  return umr_sum(a, axis, dtype, out, keepdims, initial, where)\n"
     ]
    }
   ],
   "source": [
    "# loop through each file, above and below breakdown\n",
    "ncandidates_abd = 0\n",
    "ncandidates_bbd = 0\n",
    "for filename_abd in filenames_abd:\n",
    "    filepath_abd = filespath_abd + '/' + filename_abd\n",
    "    t, V = getData(filepath_abd)\n",
    "    ncandidates_abd += len(findcandidates(t,V))\n",
    "for filename_bbd in filenames_bbd:\n",
    "    filepath_bbd = filespath_bbd + '/' + filename_bbd\n",
    "    t, V = getData(filepath_bbd)\n",
    "    ncandidates_bbd += len(findcandidates(t,V))"
   ]
  },
  {
   "cell_type": "code",
   "execution_count": 23,
   "metadata": {},
   "outputs": [
    {
     "name": "stdout",
     "output_type": "stream",
     "text": [
      "number of photon candidates below breakdown =  69187\n",
      "number of photon candidates above breakdown =  135712\n"
     ]
    }
   ],
   "source": [
    "print(\"number of photon candidates below breakdown = \",ncandidates_bbd)\n",
    "print(\"number of photon candidates above breakdown = \",ncandidates_abd)"
   ]
  },
  {
   "cell_type": "code",
   "execution_count": null,
   "metadata": {},
   "outputs": [],
   "source": [
    "ncandidates"
   ]
  }
 ],
 "metadata": {
  "interpreter": {
   "hash": "29a586c7257b42ac049708e85f079f5891c9ec57995ce95f1b5b636d2f26283b"
  },
  "kernelspec": {
   "display_name": "Python 3 (ipykernel)",
   "language": "python",
   "name": "python3"
  },
  "language_info": {
   "codemirror_mode": {
    "name": "ipython",
    "version": 3
   },
   "file_extension": ".py",
   "mimetype": "text/x-python",
   "name": "python",
   "nbconvert_exporter": "python",
   "pygments_lexer": "ipython3",
   "version": "3.9.7"
  }
 },
 "nbformat": 4,
 "nbformat_minor": 4
}
