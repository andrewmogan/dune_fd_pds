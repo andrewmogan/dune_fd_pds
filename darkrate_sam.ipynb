{
 "cells": [
  {
   "cell_type": "code",
   "execution_count": 4,
   "metadata": {},
   "outputs": [],
   "source": [
    "from os import listdir\n",
    "import numpy as np\n",
    "import matplotlib.pyplot as plt"
   ]
  },
  {
   "cell_type": "code",
   "execution_count": 7,
   "metadata": {},
   "outputs": [],
   "source": [
    "# acquire all file names in directory\n",
    "filespath = '/Users/samuelfogarty/OneDrive/Desktop/OneDrive/photondetectortests/dune_fd_pds/csv/singlephotonsearch/'\n",
    "abovebreakdown = '12usecwindow__25MHzSR_1kpts_10mVperdiv_ch4_44.135Bias'\n",
    "belowbreakdown = '12usecwindow_25MHzSR_1kpts_10mVperdiv_ch4_10.932VBias'\n",
    "\n",
    "filespath_bbd = filespath + belowbreakdown\n",
    "filespath_abd = filespath + abovebreakdown\n",
    "filenames_bbd = os.listdir(filespath_bbd)\n",
    "filenames_abd = os.listdir(filespath_abd)"
   ]
  },
  {
   "cell_type": "code",
   "execution_count": null,
   "metadata": {},
   "outputs": [],
   "source": [
    "times = []\n",
    "voltages = []\n",
    "with open((filenames_bbd + filenames_bbd[0])) as fp: # this line opens the file and makes sure to close it when all is done\n",
    "        line = fp.readline()\n",
    "        while line: # start read file loop\n",
    "            word = line.strip().split(',') # splits each line at a comma\n",
    "            if word[0] != '':\n",
    "                bincenters.append(float(word[0]))\n",
    "                bincontents.append(float(word[1]))\n",
    "            line = fp.readline()\n",
    "bincenters = np.array(bincenters)*1e9\n",
    "bincontents = np.array(bincontents)"
   ]
  },
  {
   "cell_type": "code",
   "execution_count": 18,
   "metadata": {},
   "outputs": [],
   "source": [
    "def readfile(filepath):\n",
    "    word,words = 0,0\n",
    "    ts, Vs1 = [], [] # seconds, volts\n",
    "\n",
    "\n",
    "    with open((filespath_bbd + '/' + filenames_bbd[0])) as fp: # this line opens the file and makes sure to close it when all is done\n",
    "        line = fp.readline()\n",
    "        while line: # start read file loop\n",
    "            words = line.strip().split(',') # splits each line at a comma\n",
    "                                                # the strip part makes sure there aren't any weird characters left over at the start or end of a line\n",
    "            if (words[0] == 'TIME' and words[0] != ''): # finds where to start taking the data, may need to change \n",
    "                word = 1                                # for different files\n",
    "                line = fp.readline() # get next line\n",
    "                words = line.strip().split(',')\n",
    "            if word == 1 and words[0] != '': # this ensures it starts recording the data lines only \n",
    "                ts.append(words[0].strip())\n",
    "                Vs1.append(words[1].strip()) \n",
    "            line = fp.readline()\n",
    "    return ts, Vs1\n"
   ]
  },
  {
   "cell_type": "code",
   "execution_count": null,
   "metadata": {},
   "outputs": [],
   "source": []
  },
  {
   "cell_type": "code",
   "execution_count": null,
   "metadata": {},
   "outputs": [],
   "source": []
  }
 ],
 "metadata": {
  "interpreter": {
   "hash": "29a586c7257b42ac049708e85f079f5891c9ec57995ce95f1b5b636d2f26283b"
  },
  "kernelspec": {
   "display_name": "Python 3.9.7 ('base')",
   "language": "python",
   "name": "python3"
  },
  "language_info": {
   "codemirror_mode": {
    "name": "ipython",
    "version": 3
   },
   "file_extension": ".py",
   "mimetype": "text/x-python",
   "name": "python",
   "nbconvert_exporter": "python",
   "pygments_lexer": "ipython3",
   "version": "3.9.7"
  },
  "orig_nbformat": 4
 },
 "nbformat": 4,
 "nbformat_minor": 2
}
